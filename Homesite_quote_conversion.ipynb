{
  "cells": [
    {
      "cell_type": "code",
      "execution_count": null,
      "metadata": {
        "colab": {
          "base_uri": "https://localhost:8080/"
        },
        "id": "YNkIOAgk6UaY",
        "outputId": "a9cce854-02cc-42c6-bf7c-0354bac00551"
      },
      "outputs": [
        {
          "output_type": "stream",
          "name": "stdout",
          "text": [
            "Drive already mounted at /gdrive; to attempt to forcibly remount, call drive.mount(\"/gdrive\", force_remount=True).\n",
            "/gdrive\n"
          ]
        }
      ],
      "source": [
        "# To upload our datasets from our working directory we need to mount our drive contents to the colab environment.\n",
        "# For the code to do so you can search “mount” in code snippets or use the code given below.\n",
        "# Our entire drive contents are now mounted on colab at the location “/gdrive”.\n",
        "from google.colab import drive\n",
        "drive.mount('/gdrive')\n",
        "#Change current working directory to gdrive\n",
        "%cd /gdrive"
      ]
    },
    {
      "cell_type": "code",
      "execution_count": null,
      "metadata": {
        "colab": {
          "base_uri": "https://localhost:8080/"
        },
        "id": "eJFm_XGy6sMp",
        "outputId": "847130ef-835c-434a-e79b-e2f4b813df78"
      },
      "outputs": [
        {
          "output_type": "stream",
          "name": "stdout",
          "text": [
            "Requirement already satisfied: vecstack in /usr/local/lib/python3.10/dist-packages (0.4.0)\n",
            "Requirement already satisfied: numpy in /usr/local/lib/python3.10/dist-packages (from vecstack) (1.23.5)\n",
            "Requirement already satisfied: scipy in /usr/local/lib/python3.10/dist-packages (from vecstack) (1.11.3)\n",
            "Requirement already satisfied: scikit-learn>=0.18 in /usr/local/lib/python3.10/dist-packages (from vecstack) (1.2.2)\n",
            "Requirement already satisfied: joblib>=1.1.1 in /usr/local/lib/python3.10/dist-packages (from scikit-learn>=0.18->vecstack) (1.3.2)\n",
            "Requirement already satisfied: threadpoolctl>=2.0.0 in /usr/local/lib/python3.10/dist-packages (from scikit-learn>=0.18->vecstack) (3.2.0)\n"
          ]
        }
      ],
      "source": [
        "!pip install vecstack"
      ]
    },
    {
      "cell_type": "code",
      "execution_count": null,
      "metadata": {
        "id": "trjOwSLq6uN0"
      },
      "outputs": [],
      "source": [
        "from vecstack import stacking\n",
        "import pandas as pd\n",
        "import numpy as np\n",
        "from sklearn.metrics import accuracy_score #works\n",
        "from sklearn.model_selection import train_test_split\n",
        "from sklearn.ensemble import RandomForestClassifier\n",
        "from sklearn.tree import DecisionTreeClassifier\n",
        "from sklearn.model_selection import GridSearchCV\n",
        "from sklearn.model_selection import RandomizedSearchCV\n",
        "from sklearn.model_selection import cross_val_score\n",
        "from sklearn.metrics import classification_report, confusion_matrix\n",
        "from sklearn.ensemble import GradientBoostingClassifier\n",
        "from sklearn.neural_network import MLPClassifier\n",
        "#from sklearn.ensemble import RandomForestClassifier\n",
        "from imblearn.over_sampling import SMOTE\n",
        "from sklearn.svm import SVC\n",
        "from collections import Counter #for Smote,\n",
        "\n",
        "import warnings\n",
        "warnings.filterwarnings(\"ignore\")\n",
        "from sklearn.tree import DecisionTreeClassifier\n",
        "from sklearn.ensemble import RandomForestClassifier\n",
        "from sklearn.neighbors import KNeighborsClassifier\n",
        "from sklearn.neural_network import MLPClassifier\n",
        "from sklearn.svm import LinearSVC"
      ]
    },
    {
      "cell_type": "code",
      "execution_count": null,
      "metadata": {
        "colab": {
          "base_uri": "https://localhost:8080/"
        },
        "id": "jfAgDxfJ6w_2",
        "outputId": "4bba0cea-3cae-4cfb-9f9c-7077ac1769ec"
      },
      "outputs": [
        {
          "output_type": "stream",
          "name": "stdout",
          "text": [
            "(65000, 596)\n",
            "(173836, 596)\n",
            "   CoverageField11A  CoverageField11B  CoverageField1A  CoverageField1B  \\\n",
            "0                 2                 1               17               23   \n",
            "1                 5                 9                6                8   \n",
            "2                 4                 6                7               12   \n",
            "3                15                23                3                2   \n",
            "4                 4                 6                8               13   \n",
            "\n",
            "   CoverageField2A  CoverageField2B  CoverageField3A  CoverageField3B  \\\n",
            "0               17               23               15               22   \n",
            "1                6                8                5                7   \n",
            "2                7               12                6               10   \n",
            "3                3                2                2                2   \n",
            "4                8               13                7               11   \n",
            "\n",
            "   CoverageField4A  CoverageField4B  ...  PropertyField38_N  \\\n",
            "0               16               22  ...                  1   \n",
            "1                5                8  ...                  1   \n",
            "2                7               11  ...                  1   \n",
            "3                3                2  ...                  1   \n",
            "4                7               13  ...                  1   \n",
            "\n",
            "   PropertyField38_Y  GeographicField63_   GeographicField63_N  \\\n",
            "0                  0                    0                    1   \n",
            "1                  0                    0                    1   \n",
            "2                  0                    0                    1   \n",
            "3                  0                    0                    1   \n",
            "4                  0                    0                    1   \n",
            "\n",
            "   GeographicField63_Y  GeographicField64_CA  GeographicField64_IL  \\\n",
            "0                    0                     1                     0   \n",
            "1                    0                     0                     0   \n",
            "2                    0                     0                     0   \n",
            "3                    0                     0                     0   \n",
            "4                    0                     0                     1   \n",
            "\n",
            "   GeographicField64_NJ  GeographicField64_TX  QuoteConversion_Flag  \n",
            "0                     0                     0                     0  \n",
            "1                     1                     0                     0  \n",
            "2                     1                     0                     0  \n",
            "3                     0                     1                     0  \n",
            "4                     0                     0                     0  \n",
            "\n",
            "[5 rows x 596 columns]\n"
          ]
        }
      ],
      "source": [
        "trainfile = r'/gdrive/My Drive/RevisedHomesiteTrain1.csv'\n",
        "train_data = pd.read_csv(trainfile)\n",
        "\n",
        "\n",
        "\n",
        "\n",
        "testfile = r'/gdrive/My Drive/RevisedHomesiteTest1.csv'\n",
        "test_data = pd.read_csv(testfile)\n",
        "\n",
        "\n",
        "\n",
        "\n",
        "print(train_data.shape)\n",
        "print(test_data.shape)\n",
        "print(train_data.head())"
      ]
    },
    {
      "cell_type": "code",
      "execution_count": null,
      "metadata": {
        "colab": {
          "base_uri": "https://localhost:8080/"
        },
        "id": "5Ry5Rdzx6y7E",
        "outputId": "23b6f36c-c15f-42ec-d2e6-dabacf35b818"
      },
      "outputs": [
        {
          "output_type": "stream",
          "name": "stdout",
          "text": [
            "<class 'pandas.core.frame.DataFrame'>\n",
            "RangeIndex: 65000 entries, 0 to 64999\n",
            "Columns: 596 entries, CoverageField11A to QuoteConversion_Flag\n",
            "dtypes: float64(5), int64(591)\n",
            "memory usage: 295.6 MB\n",
            "<class 'pandas.core.frame.DataFrame'>\n",
            "RangeIndex: 173836 entries, 0 to 173835\n",
            "Columns: 596 entries, CoverageField11A to GeographicField64\n",
            "dtypes: float64(5), int64(590), object(1)\n",
            "memory usage: 790.5+ MB\n"
          ]
        }
      ],
      "source": [
        "train_data.info()\n",
        "test_data.info()"
      ]
    },
    {
      "cell_type": "code",
      "execution_count": null,
      "metadata": {
        "colab": {
          "base_uri": "https://localhost:8080/"
        },
        "id": "Jh1vVdxR67zg",
        "outputId": "daf9db42-5515-439b-a486-0003e7439862"
      },
      "outputs": [
        {
          "output_type": "execute_result",
          "data": {
            "text/plain": [
              "CoverageField11A        0\n",
              "PersonalField17_YU      0\n",
              "PersonalField17_YW      0\n",
              "PersonalField17_YX      0\n",
              "PersonalField17_YY      0\n",
              "                       ..\n",
              "PersonalField64         0\n",
              "PersonalField65         0\n",
              "PersonalField66         0\n",
              "PersonalField67         0\n",
              "QuoteConversion_Flag    0\n",
              "Length: 596, dtype: int64"
            ]
          },
          "metadata": {},
          "execution_count": 27
        }
      ],
      "source": [
        "# To check number of null values\n",
        "train_data.isnull().sum().sort_values(ascending=False)"
      ]
    },
    {
      "cell_type": "code",
      "execution_count": null,
      "metadata": {
        "colab": {
          "base_uri": "https://localhost:8080/"
        },
        "id": "VPrBBF346_hb",
        "outputId": "003854ca-98e5-4a5e-838d-be10c655af29"
      },
      "outputs": [
        {
          "output_type": "stream",
          "name": "stdout",
          "text": [
            "Empty DataFrame\n",
            "Columns: []\n",
            "Index: [0, 1, 2, 3, 4, 5, 6, 7, 8, 9, 10, 11, 12, 13, 14, 15, 16, 17, 18, 19, 20, 21, 22, 23, 24, 25, 26, 27, 28, 29, 30, 31, 32, 33, 34, 35, 36, 37, 38, 39, 40, 41, 42, 43, 44, 45, 46, 47, 48, 49, 50, 51, 52, 53, 54, 55, 56, 57, 58, 59, 60, 61, 62, 63, 64, 65, 66, 67, 68, 69, 70, 71, 72, 73, 74, 75, 76, 77, 78, 79, 80, 81, 82, 83, 84, 85, 86, 87, 88, 89, 90, 91, 92, 93, 94, 95, 96, 97, 98, 99, ...]\n",
            "\n",
            "[65000 rows x 0 columns]\n"
          ]
        }
      ],
      "source": [
        "print(train_data.select_dtypes(include=['object']))"
      ]
    },
    {
      "cell_type": "code",
      "execution_count": null,
      "metadata": {
        "colab": {
          "base_uri": "https://localhost:8080/"
        },
        "id": "xNEZ3n397BRl",
        "outputId": "ec2ef85e-d3fe-4cb0-980b-32e6b48f5a9a"
      },
      "outputs": [
        {
          "output_type": "stream",
          "name": "stdout",
          "text": [
            "       GeographicField64\n",
            "0                     IL\n",
            "1                     NJ\n",
            "2                     NJ\n",
            "3                     TX\n",
            "4                     CA\n",
            "...                  ...\n",
            "173831                NJ\n",
            "173832                CA\n",
            "173833                CA\n",
            "173834                TX\n",
            "173835                NJ\n",
            "\n",
            "[173836 rows x 1 columns]\n"
          ]
        }
      ],
      "source": [
        "print(test_data.select_dtypes(include=['object']))"
      ]
    },
    {
      "cell_type": "code",
      "execution_count": null,
      "metadata": {
        "id": "mzPKJ2vO7C8W"
      },
      "outputs": [],
      "source": [
        "# drop categorical data\n",
        "test_data.drop('GeographicField64',axis=1,inplace=True)"
      ]
    },
    {
      "cell_type": "code",
      "execution_count": null,
      "metadata": {
        "id": "fCBxVaQO7R05"
      },
      "outputs": [],
      "source": [
        "#seperate features and target variable in training data\n",
        "X=train_data.drop('QuoteConversion_Flag',axis=1)\n",
        "y=train_data['QuoteConversion_Flag']\n",
        "smote = SMOTE(random_state=42, sampling_strategy=0.75)\n",
        "X_res, y_res = smote.fit_resample(X, y)"
      ]
    },
    {
      "cell_type": "code",
      "execution_count": null,
      "metadata": {
        "colab": {
          "base_uri": "https://localhost:8080/"
        },
        "id": "yl8s4VtvFUWk",
        "outputId": "618e217e-2911-4775-b366-c1c79332011d"
      },
      "outputs": [
        {
          "output_type": "execute_result",
          "data": {
            "text/plain": [
              "(79107, 595)"
            ]
          },
          "metadata": {},
          "execution_count": 32
        }
      ],
      "source": [
        "X_res.shape"
      ]
    },
    {
      "cell_type": "code",
      "execution_count": null,
      "metadata": {
        "id": "DdknLqA7FYjs"
      },
      "outputs": [],
      "source": [
        "#Re-adding target variable to feature set for corr calculation\n",
        "res_data=pd.DataFrame(X_res, columns=X.columns)\n",
        "res_data['QuoteConversion_Flag']=y_res\n",
        "#Feature selection with QuoteConversion_Flag\n",
        "corr=res_data.corr()['QuoteConversion_Flag'].abs().sort_values(ascending=False)\n",
        "top_150=corr.index[1:151]\n",
        "X_resselect=res_data[top_150]"
      ]
    },
    {
      "cell_type": "code",
      "execution_count": null,
      "metadata": {
        "colab": {
          "base_uri": "https://localhost:8080/"
        },
        "id": "C-hFzx19GmIe",
        "outputId": "70465b48-afd9-4cf8-a9fe-b8ddf43d730e"
      },
      "outputs": [
        {
          "output_type": "execute_result",
          "data": {
            "text/plain": [
              "(79107, 150)"
            ]
          },
          "metadata": {},
          "execution_count": 34
        }
      ],
      "source": [
        "X_resselect.shape\n"
      ]
    },
    {
      "cell_type": "code",
      "execution_count": null,
      "metadata": {
        "colab": {
          "base_uri": "https://localhost:8080/"
        },
        "id": "aJt1w3VZHHFN",
        "outputId": "38a9c3db-99e0-42dc-c836-9f71533524c3"
      },
      "outputs": [
        {
          "output_type": "execute_result",
          "data": {
            "text/plain": [
              "(79107,)"
            ]
          },
          "metadata": {},
          "execution_count": 35
        }
      ],
      "source": [
        "y_res.shape"
      ]
    },
    {
      "cell_type": "code",
      "execution_count": null,
      "metadata": {
        "id": "xcmyZz9rGvDB"
      },
      "outputs": [],
      "source": [
        "#select same feature from test data\n",
        "test_dataselec=test_data[top_150]"
      ]
    },
    {
      "cell_type": "code",
      "execution_count": null,
      "metadata": {
        "colab": {
          "base_uri": "https://localhost:8080/"
        },
        "id": "QunbM0ovG_ta",
        "outputId": "389e5ab1-aa2e-485f-b8a4-f2fcaba9433a"
      },
      "outputs": [
        {
          "output_type": "stream",
          "name": "stdout",
          "text": [
            "___________________________________________________________________________________________\n",
            "Ensemble Methods Predictions using GradientBoosting, RandomForest and Decision Tree Classifier\n",
            "\n",
            "task:         [classification]\n",
            "n_classes:    [2]\n",
            "metric:       [accuracy_score]\n",
            "mode:         [oof_pred_bag]\n",
            "n_models:     [5]\n",
            "\n",
            "model  0:     [KNeighborsClassifier]\n",
            "    fold  0:  [0.80072812]\n",
            "    fold  1:  [0.79926177]\n",
            "    fold  2:  [0.79243566]\n",
            "    fold  3:  [0.79601537]\n",
            "    ----\n",
            "    MEAN:     [0.79711023] + [0.00319251]\n",
            "    FULL:     [0.79711024]\n",
            "\n",
            "model  1:     [MLPClassifier]\n",
            "    fold  0:  [0.90711432]\n",
            "    fold  1:  [0.91166507]\n",
            "    fold  2:  [0.91394044]\n",
            "    fold  3:  [0.91044701]\n",
            "    ----\n",
            "    MEAN:     [0.91079171] + [0.00246573]\n",
            "    FULL:     [0.91079171]\n",
            "\n",
            "model  2:     [LinearSVC]\n",
            "    fold  0:  [0.74915306]\n",
            "    fold  1:  [0.83162259]\n",
            "    fold  2:  [0.85771351]\n",
            "    fold  3:  [0.60366100]\n",
            "    ----\n",
            "    MEAN:     [0.76053754] + [0.09904053]\n",
            "    FULL:     [0.76053952]\n",
            "\n",
            "model  3:     [RandomForestClassifier]\n",
            "    fold  0:  [0.92051373]\n",
            "    fold  1:  [0.91813723]\n",
            "    fold  2:  [0.92142388]\n",
            "    fold  3:  [0.92015574]\n",
            "    ----\n",
            "    MEAN:     [0.92005764] + [0.00120127]\n",
            "    FULL:     [0.92005764]\n",
            "\n",
            "model  4:     [DecisionTreeClassifier]\n",
            "    fold  0:  [0.88633261]\n",
            "    fold  1:  [0.88769783]\n",
            "    fold  2:  [0.88309653]\n",
            "    fold  3:  [0.88754045]\n",
            "    ----\n",
            "    MEAN:     [0.88616685] + [0.00184967]\n",
            "    FULL:     [0.88616684]\n",
            "\n"
          ]
        }
      ],
      "source": [
        "print(\"___________________________________________________________________________________________\\nEnsemble Methods Predictions using GradientBoosting, RandomForest and Decision Tree Classifier\\n\")\n",
        "\n",
        "models = [ KNeighborsClassifier(), MLPClassifier(), LinearSVC(), RandomForestClassifier(), DecisionTreeClassifier() ]\n",
        "\n",
        "S_Train, S_Test = stacking(models,\n",
        "                           X_resselect, y_res, test_dataselec,\n",
        "                           regression=False,\n",
        "                           mode='oof_pred_bag',\n",
        "                           needs_proba=False,\n",
        "                           save_dir=None,\n",
        "                           metric=accuracy_score,\n",
        "                           n_folds=4,\n",
        "                           stratified=True,\n",
        "                           shuffle=True,\n",
        "                           random_state=0,\n",
        "                           verbose=2)\n"
      ]
    },
    {
      "cell_type": "code",
      "source": [
        "mlp = MLPClassifier(random_state=42)\n",
        "\n",
        "# Define hyperparameters to search\n",
        "param_grid = {\n",
        "    'hidden_layer_sizes': [(50,), (100,), (50, 50), (100, 50)],\n",
        "    'activation': ['relu', 'tanh'],\n",
        "    'solver': ['adam', 'sgd'],\n",
        "    'alpha': [0.0001, 0.001, 0.01],\n",
        "}\n",
        "\n",
        "# Perform GridSearchCV for hyperparameter tuning\n",
        "grid_search = GridSearchCV(mlp, param_grid, cv=3, n_jobs=-1)\n",
        "grid_search.fit(S_Train, y_res)\n",
        "\n",
        "# Get the best hyperparameters and score\n",
        "best_params = grid_search.best_params_\n",
        "best_score = grid_search.best_score_"
      ],
      "metadata": {
        "id": "gu5BXhYCcyv1"
      },
      "execution_count": null,
      "outputs": []
    },
    {
      "cell_type": "code",
      "execution_count": null,
      "metadata": {
        "id": "5Vthlrf1C0rQ"
      },
      "outputs": [],
      "source": [
        "#use stacked data to train the model\n",
        "mlp=MLPClassifier(max_iter=80)\n",
        "mlp.fit(S_Train, y_res)\n",
        "mlp_predict=mlp.predict(S_Test)\n"
      ]
    },
    {
      "cell_type": "code",
      "execution_count": null,
      "metadata": {
        "id": "-Hs8I9KdHnFw"
      },
      "outputs": [],
      "source": [
        "#predict MLP\n",
        "predicted_prob=mlp.predict_proba(S_Test)[:,1]"
      ]
    },
    {
      "cell_type": "code",
      "execution_count": null,
      "metadata": {
        "id": "G5tT0WcLINIW"
      },
      "outputs": [],
      "source": [
        "submission_df = pd.DataFrame({\n",
        "    'QuoteNumber': test_data['QuoteNumber'],\n",
        "     'QuoteConversion_Flag': predicted_prob\n",
        "})\n",
        "submission_df.to_csv('/gdrive/My Drive/revise1.csv', index=False)"
      ]
    },
    {
      "cell_type": "code",
      "source": [
        "smote = SMOTE(random_state=42, sampling_strategy=0.5)\n",
        "X_res, y_res = smote.fit_resample(X, y)"
      ],
      "metadata": {
        "id": "nvbAfQVFqQrg"
      },
      "execution_count": null,
      "outputs": []
    },
    {
      "cell_type": "code",
      "source": [
        "print(\"___________________________________________________________________________________________\\nEnsemble Methods Predictions using GradientBoosting, RandomForest and Decision Tree Classifier\\n\")\n",
        "\n",
        "models = [ KNeighborsClassifier(), MLPClassifier(), LinearSVC(), RandomForestClassifier(), DecisionTreeClassifier() ]\n",
        "\n",
        "S_Train, S_Test = stacking(models,\n",
        "                           X_resselect, y_res, test_dataselec,\n",
        "                           regression=False,\n",
        "                           mode='oof_pred_bag',\n",
        "                           needs_proba=False,\n",
        "                           save_dir=None,\n",
        "                           metric=accuracy_score,\n",
        "                           n_folds=4,\n",
        "                           stratified=True,\n",
        "                           shuffle=True,\n",
        "                           random_state=0,\n",
        "                           verbose=2)"
      ],
      "metadata": {
        "colab": {
          "base_uri": "https://localhost:8080/"
        },
        "id": "j_O9wTMUqTrY",
        "outputId": "990875fb-008c-45df-c47c-7b277aaaefc9"
      },
      "execution_count": null,
      "outputs": [
        {
          "output_type": "stream",
          "name": "stdout",
          "text": [
            "___________________________________________________________________________________________\n",
            "Ensemble Methods Predictions using GradientBoosting, RandomForest and Decision Tree Classifier\n",
            "\n",
            "task:         [classification]\n",
            "n_classes:    [2]\n",
            "metric:       [accuracy_score]\n",
            "mode:         [oof_pred_bag]\n",
            "n_models:     [5]\n",
            "\n",
            "model  0:     [KNeighborsClassifier]\n",
            "    fold  0:  [0.80072812]\n",
            "    fold  1:  [0.79926177]\n",
            "    fold  2:  [0.79243566]\n",
            "    fold  3:  [0.79601537]\n",
            "    ----\n",
            "    MEAN:     [0.79711023] + [0.00319251]\n",
            "    FULL:     [0.79711024]\n",
            "\n",
            "model  1:     [MLPClassifier]\n",
            "    fold  0:  [0.90676038]\n",
            "    fold  1:  [0.83268443]\n",
            "    fold  2:  [0.88800121]\n",
            "    fold  3:  [0.91418892]\n",
            "    ----\n",
            "    MEAN:     [0.88540873] + [0.03190127]\n",
            "    FULL:     [0.88540837]\n",
            "\n",
            "model  2:     [LinearSVC]\n",
            "    fold  0:  [0.90397937]\n",
            "    fold  1:  [0.86226425]\n",
            "    fold  2:  [0.90180513]\n",
            "    fold  3:  [0.85694782]\n",
            "    ----\n",
            "    MEAN:     [0.88124914] + [0.02173817]\n",
            "    FULL:     [0.88124945]\n",
            "\n",
            "model  3:     [RandomForestClassifier]\n",
            "    fold  0:  [0.92031147]\n",
            "    fold  1:  [0.92086767]\n",
            "    fold  2:  [0.92177782]\n",
            "    fold  3:  [0.91995348]\n",
            "    ----\n",
            "    MEAN:     [0.92072761] + [0.00068830]\n",
            "    FULL:     [0.92072762]\n",
            "\n",
            "model  4:     [DecisionTreeClassifier]\n",
            "    fold  0:  [0.88860798]\n",
            "    fold  1:  [0.88734388]\n",
            "    fold  2:  [0.88663599]\n",
            "    fold  3:  [0.88824838]\n",
            "    ----\n",
            "    MEAN:     [0.88770906] + [0.00077197]\n",
            "    FULL:     [0.88770905]\n",
            "\n"
          ]
        }
      ]
    },
    {
      "cell_type": "code",
      "source": [
        "mlp = MLPClassifier(random_state=42)\n",
        "\n",
        "# Define hyperparameters to search\n",
        "param_grid = {\n",
        "    'hidden_layer_sizes': [(50,), (100,), (50, 50), (100, 50)],\n",
        "    'activation': ['relu', 'tanh'],\n",
        "    'solver': ['adam', 'sgd'],\n",
        "    'alpha': [0.0001, 0.001, 0.01],\n",
        "}\n",
        "\n",
        "# Perform GridSearchCV for hyperparameter tuning\n",
        "grid_search = GridSearchCV(mlp, param_grid, cv=3, n_jobs=-1)\n",
        "grid_search.fit(S_Train, y_res)\n",
        "\n",
        "# Get the best hyperparameters and score\n",
        "best_params = grid_search.best_params_\n",
        "best_score = grid_search.best_score_"
      ],
      "metadata": {
        "id": "FsK4DIZJqklk"
      },
      "execution_count": null,
      "outputs": []
    },
    {
      "cell_type": "code",
      "source": [
        "#use stacked data to train the model\n",
        "mlp=MLPClassifier(max_iter=80)\n",
        "mlp.fit(S_Train, y_res)\n",
        "mlp_predict=mlp.predict(S_Test)\n"
      ],
      "metadata": {
        "id": "qn2epABAqYHe"
      },
      "execution_count": null,
      "outputs": []
    },
    {
      "cell_type": "code",
      "source": [
        "predicted_prob=mlp.predict_proba(S_Test)[:,1]"
      ],
      "metadata": {
        "id": "gGvDeBdWqXyw"
      },
      "execution_count": null,
      "outputs": []
    },
    {
      "cell_type": "code",
      "source": [
        "submission_df = pd.DataFrame({\n",
        "    'QuoteNumber': test_data['QuoteNumber'],\n",
        "     'QuoteConversion_Flag': predicted_prob\n",
        "})\n",
        "submission_df.to_csv('/gdrive/My Drive/revise1.csv', index=False)"
      ],
      "metadata": {
        "id": "bYsUMa56qrXl"
      },
      "execution_count": null,
      "outputs": []
    }
  ],
  "metadata": {
    "colab": {
      "provenance": []
    },
    "kernelspec": {
      "display_name": "Python 3",
      "name": "python3"
    },
    "language_info": {
      "name": "python"
    }
  },
  "nbformat": 4,
  "nbformat_minor": 0
}